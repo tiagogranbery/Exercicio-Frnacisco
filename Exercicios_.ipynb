{
  "nbformat": 4,
  "nbformat_minor": 0,
  "metadata": {
    "colab": {
      "provenance": []
    },
    "kernelspec": {
      "name": "python3",
      "display_name": "Python 3"
    },
    "language_info": {
      "name": "python"
    }
  },
  "cells": [
    {
      "cell_type": "markdown",
      "source": [
        "Exercicios de 1 a 9"
      ],
      "metadata": {
        "id": "GVQYyg3DCQLL"
      }
    },
    {
      "cell_type": "code",
      "source": [
        "#Média de uma lista: Escreva uma função chamada calcular_media que recebe uma lista de números como entrada\n",
        "# e retorna a média desses números.\n",
        "\n",
        "def calcular_media(lista):\n",
        "    if len(lista) == 0:\n",
        "        return 0\n",
        "    else:\n",
        "        return sum(lista) / len(lista)\n",
        "numeros = [1, 2, 3, 4, 5, 6, 7, 8, 9, 10]\n",
        "print(f\"Resultado das medias: {calcular_media(numeros)} .\")"
      ],
      "metadata": {
        "colab": {
          "base_uri": "https://localhost:8080/"
        },
        "id": "fXHjl-UpCe5u",
        "outputId": "d68b378f-5a72-4c36-b070-493160edaa2d"
      },
      "execution_count": 10,
      "outputs": [
        {
          "output_type": "stream",
          "name": "stdout",
          "text": [
            "Resultado das medias: 5.5 .\n"
          ]
        }
      ]
    },
    {
      "cell_type": "code",
      "source": [
        "#Maior elemento em uma lista: Escreva uma função chamada encontrar_maior que recebe\n",
        "# uma lista de números como entrada e retorna o maior elemento dessa lista.\n",
        "\n",
        "def encontrar_maior(lista_numeros):\n",
        "    maior = lista_numeros[0]\n",
        "\n",
        "    for numero in lista_numeros:\n",
        "        if numero > maior:\n",
        "            maior = numero\n",
        "\n",
        "    return maior\n",
        "numeros = [10, 5, 20, 15, 30, 40, 80, 1]\n",
        "print(f\"Retorno do elemento com valor maior: {encontrar_maior(numeros)}.\")"
      ],
      "metadata": {
        "colab": {
          "base_uri": "https://localhost:8080/"
        },
        "id": "DrK_bsgrDIHX",
        "outputId": "7f76f3b1-0b4c-49e7-fce3-45a750768cb1"
      },
      "execution_count": 2,
      "outputs": [
        {
          "output_type": "stream",
          "name": "stdout",
          "text": [
            "Retorno do elemento com valor maior: 80.\n"
          ]
        }
      ]
    },
    {
      "cell_type": "code",
      "source": [
        "#Inverter uma lista: Escreva uma função chamada inverter_lista que recebe uma lista como\n",
        "# entrada e retorna uma nova lista com os elementos na ordem inversa.\n",
        "\n",
        "def inverter_lista(lista):\n",
        "    nova_lista = lista[::-1]\n",
        "    return nova_lista\n",
        "\n",
        "lista_original = [1, 2, 3, 4, 5, 6]\n",
        "lista_invertida = inverter_lista(lista_original)\n",
        "print(f\"Lista em ordem Inversa: {lista_invertida}.\")"
      ],
      "metadata": {
        "colab": {
          "base_uri": "https://localhost:8080/"
        },
        "id": "-1TbD3dWEtMp",
        "outputId": "35f9203b-5deb-4c1b-e5ba-3f574de02254"
      },
      "execution_count": 3,
      "outputs": [
        {
          "output_type": "stream",
          "name": "stdout",
          "text": [
            "Lista em ordem Inversa: [6, 5, 4, 3, 2, 1].\n"
          ]
        }
      ]
    },
    {
      "cell_type": "code",
      "source": [
        "#Remover duplicatas: Escreva uma função chamada remover_duplicatas que recebe uma\n",
        "# lista como entrada e  retorna uma nova lista sem elementos duplicados.\n",
        "\n",
        "def remover_duplicatas(lista):\n",
        "   return list(set(lista))\n",
        "\n",
        "lista = [1, 2, 2, 3, 3, 4, 4, 5, 5]\n",
        "nova_lista = remover_duplicatas(lista)\n",
        "print(f\"Lista sem elementos duplicados {nova_lista}.\")"
      ],
      "metadata": {
        "id": "v9FFqiZeE6Hk"
      },
      "execution_count": null,
      "outputs": []
    },
    {
      "cell_type": "code",
      "source": [
        "#Ordenar lista: Escreva uma função chamada ordenar_lista que recebe uma\n",
        "# lista como entrada e retorna uma nova lista com os elementos ordenados em ordem crescente.\n",
        "\n",
        "def ordenar_lista(lista):\n",
        "    return list(sorted(lista))\n",
        "\n",
        "lista = [1, 8, 6, 4, 7, 9, 3, 2, 5]\n",
        "lista_ordenada = ordenar_lista(lista)\n",
        "print(f\"Nova lista ordenada: {lista_ordenada}.\")"
      ],
      "metadata": {
        "colab": {
          "base_uri": "https://localhost:8080/"
        },
        "id": "U6WXlf35HApB",
        "outputId": "3f6d9602-9d3f-4e7d-9dca-094f0747ded4"
      },
      "execution_count": 4,
      "outputs": [
        {
          "output_type": "stream",
          "name": "stdout",
          "text": [
            "Nova lista ordenada: [1, 2, 3, 4, 5, 6, 7, 8, 9].\n"
          ]
        }
      ]
    },
    {
      "cell_type": "code",
      "source": [
        "# uma lista e um elemento como entrada, e retorna o número de vezes que o elemento\n",
        "# aparece na lista.\n",
        "\n",
        "def contar_ocorrencias(lista, elemento):\n",
        "    count = 0\n",
        "    for item in lista:\n",
        "        if item == elemento:\n",
        "            count += 1\n",
        "    return count\n",
        "\n",
        "lista = [1, 2, 3, 4, 2, 2, 5]\n",
        "elemento = 2\n",
        "resultado = contar_ocorrencias(lista, elemento)\n",
        "print(f\"O numero {elemento} aparece {resultado} vezes na lista.\")"
      ],
      "metadata": {
        "colab": {
          "base_uri": "https://localhost:8080/"
        },
        "id": "lNd_i5hFHJvx",
        "outputId": "364aa43c-4787-47b4-f158-ab67105e7710"
      },
      "execution_count": 5,
      "outputs": [
        {
          "output_type": "stream",
          "name": "stdout",
          "text": [
            "O numero 2 aparece 3 vezes na lista.\n"
          ]
        }
      ]
    },
    {
      "cell_type": "code",
      "source": [
        "#Filtrar números pares: Escreva uma função chamada filtrar_pares que recebe uma lista\n",
        "# de números como entrada e retorna uma nova lista contendo apenas os números pares da lista original.\n",
        "\n",
        "def filtrar_pares(lista):\n",
        "    return [num for num in lista if num % 2 == 0]\n",
        "\n",
        "numeros = [1, 2, 3, 4, 5, 6, 7, 8, 9, 10]\n",
        "pares = filtrar_pares(numeros)\n",
        "print(f\"Lista com apenas os numeros pares: {pares}.\")"
      ],
      "metadata": {
        "colab": {
          "base_uri": "https://localhost:8080/"
        },
        "id": "f_F4q_WzHSll",
        "outputId": "fc6c5a28-34f6-4e06-b406-75b05b531e4d"
      },
      "execution_count": 6,
      "outputs": [
        {
          "output_type": "stream",
          "name": "stdout",
          "text": [
            "Lista com apenas os numeros pares: [2, 4, 6, 8, 10].\n"
          ]
        }
      ]
    },
    {
      "cell_type": "code",
      "source": [
        "#Combinar listas: Escreva uma função chamada combinar_listas que recebe duas listas\n",
        "# como entrada e retorna uma nova lista combinando os elementos das duas listas.\n",
        "\n",
        "def combinar_listas(lista1, lista2):\n",
        "    lista_combinada = lista1 + lista2\n",
        "    return lista_combinada\n",
        "\n",
        "lista1 = [1, 2, 3, 4, 5]\n",
        "lista2 = [6, 7, 8, 9, 10]\n",
        "resultado = combinar_listas(lista1, lista2)\n",
        "print(f\"Lista combinada dos resultantes: {resultado}.\")"
      ],
      "metadata": {
        "colab": {
          "base_uri": "https://localhost:8080/"
        },
        "id": "meQISIDoHcGH",
        "outputId": "de40410e-3595-46fe-c06e-ef70c7f083bd"
      },
      "execution_count": 8,
      "outputs": [
        {
          "output_type": "stream",
          "name": "stdout",
          "text": [
            "Lista combinada dos resultantes: [1, 2, 3, 4, 5, 6, 7, 8, 9, 10].\n"
          ]
        }
      ]
    },
    {
      "cell_type": "code",
      "source": [
        "# de igual tamanho de números como entrada e retorna uma nova lista contendo a\n",
        "# soma dos elementos correspondentes das duas listas.\n",
        "\n",
        "def soma_listas(lista1, lista2):\n",
        "    if len(lista1) != len(lista2):\n",
        "        return \"As listas devem ter o mesmo tamanho.\"\n",
        "\n",
        "    soma = []\n",
        "    for i in range(len(lista1)):\n",
        "        soma.append(lista1[i] + lista2[i])\n",
        "\n",
        "    return soma\n",
        "\n",
        "\n",
        "lista1 = [1, 2, 3, 4]\n",
        "lista2 = [5, 6, 7, 8]\n",
        "print(f\" Soma das litas obtendo o resltado: {soma_listas(lista1,lista2)}.\")"
      ],
      "metadata": {
        "colab": {
          "base_uri": "https://localhost:8080/"
        },
        "id": "2Az-KPgYH5Ei",
        "outputId": "d4818084-3fb1-4f07-d29d-49def0a9eaef"
      },
      "execution_count": 9,
      "outputs": [
        {
          "output_type": "stream",
          "name": "stdout",
          "text": [
            " Soma das litas obtendo o resltado: [6, 8, 10, 12].\n"
          ]
        }
      ]
    }
  ]
}